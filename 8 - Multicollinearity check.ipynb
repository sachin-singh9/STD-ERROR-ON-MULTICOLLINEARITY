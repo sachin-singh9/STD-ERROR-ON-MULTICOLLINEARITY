{
 "cells": [
  {
   "cell_type": "markdown",
   "id": "759be2b5",
   "metadata": {},
   "source": [
    "## Done by \n",
    "\n",
    "### 1. Jay Chothani (D22014)\n",
    "### 2. Kreena Sheth (D22022)\n",
    "### 3. Sachin Singh (D22043)"
   ]
  },
  {
   "cell_type": "code",
   "execution_count": 3,
   "id": "50f2d2cd",
   "metadata": {},
   "outputs": [],
   "source": [
    "import numpy as np\n",
    "import pandas as pd\n",
    "import matplotlib.pyplot as plt\n",
    "import seaborn as sns\n",
    "#import random as rm"
   ]
  },
  {
   "cell_type": "code",
   "execution_count": 2,
   "id": "3d8b46fe",
   "metadata": {},
   "outputs": [],
   "source": [
    "from statsmodels.stats.outliers_influence import variance_inflation_factor"
   ]
  },
  {
   "cell_type": "code",
   "execution_count": 116,
   "id": "f7708c86",
   "metadata": {},
   "outputs": [],
   "source": [
    "x1=np.random.randint(0,100,25000)\n",
    "x2=np.random.randint(0,100,25000)\n",
    "x3=np.random.randint(0,100,25000)\n",
    "a=np.random.randint(0,30,25000)\n",
    "x4=x3*2+a\n",
    "y=np.random.randint(0,100,25000)"
   ]
  },
  {
   "cell_type": "code",
   "execution_count": 117,
   "id": "86cd1757",
   "metadata": {},
   "outputs": [
    {
     "data": {
      "text/html": [
       "<div>\n",
       "<style scoped>\n",
       "    .dataframe tbody tr th:only-of-type {\n",
       "        vertical-align: middle;\n",
       "    }\n",
       "\n",
       "    .dataframe tbody tr th {\n",
       "        vertical-align: top;\n",
       "    }\n",
       "\n",
       "    .dataframe thead th {\n",
       "        text-align: right;\n",
       "    }\n",
       "</style>\n",
       "<table border=\"1\" class=\"dataframe\">\n",
       "  <thead>\n",
       "    <tr style=\"text-align: right;\">\n",
       "      <th></th>\n",
       "      <th>var1</th>\n",
       "      <th>var2</th>\n",
       "      <th>var3</th>\n",
       "      <th>var4</th>\n",
       "      <th>target</th>\n",
       "    </tr>\n",
       "  </thead>\n",
       "  <tbody>\n",
       "    <tr>\n",
       "      <th>0</th>\n",
       "      <td>40</td>\n",
       "      <td>37</td>\n",
       "      <td>92</td>\n",
       "      <td>203</td>\n",
       "      <td>29</td>\n",
       "    </tr>\n",
       "    <tr>\n",
       "      <th>1</th>\n",
       "      <td>7</td>\n",
       "      <td>35</td>\n",
       "      <td>88</td>\n",
       "      <td>181</td>\n",
       "      <td>69</td>\n",
       "    </tr>\n",
       "    <tr>\n",
       "      <th>2</th>\n",
       "      <td>99</td>\n",
       "      <td>79</td>\n",
       "      <td>64</td>\n",
       "      <td>152</td>\n",
       "      <td>32</td>\n",
       "    </tr>\n",
       "    <tr>\n",
       "      <th>3</th>\n",
       "      <td>37</td>\n",
       "      <td>70</td>\n",
       "      <td>35</td>\n",
       "      <td>86</td>\n",
       "      <td>9</td>\n",
       "    </tr>\n",
       "    <tr>\n",
       "      <th>4</th>\n",
       "      <td>19</td>\n",
       "      <td>57</td>\n",
       "      <td>15</td>\n",
       "      <td>51</td>\n",
       "      <td>63</td>\n",
       "    </tr>\n",
       "  </tbody>\n",
       "</table>\n",
       "</div>"
      ],
      "text/plain": [
       "   var1  var2  var3  var4  target\n",
       "0    40    37    92   203      29\n",
       "1     7    35    88   181      69\n",
       "2    99    79    64   152      32\n",
       "3    37    70    35    86       9\n",
       "4    19    57    15    51      63"
      ]
     },
     "execution_count": 117,
     "metadata": {},
     "output_type": "execute_result"
    }
   ],
   "source": [
    "data=pd.DataFrame({'var1':x1,'var2':x2,'var3':x3,'var4':x4,'target':y})\n",
    "data.head()"
   ]
  },
  {
   "cell_type": "code",
   "execution_count": 118,
   "id": "619bcd66",
   "metadata": {},
   "outputs": [
    {
     "name": "stdout",
     "output_type": "stream",
     "text": [
      "Pearsons correlation: -0.003\n",
      "Pearsons correlation: 0.001\n",
      "Pearsons correlation: 0.008\n",
      "Pearsons correlation: 0.007\n",
      "Pearsons correlation: 0.002\n",
      "Pearsons correlation: 0.989\n"
     ]
    }
   ],
   "source": [
    "from scipy.stats import pearsonr\n",
    "\n",
    "corr, _ = pearsonr(data.var1, data.var2)\n",
    "print('Pearsons correlation: %.3f' % corr)\n",
    "\n",
    "corr, _ = pearsonr(data.var2, data.var3)\n",
    "print('Pearsons correlation: %.3f' % corr)\n",
    "\n",
    "corr, _ = pearsonr(data.var3, data.var1)\n",
    "print('Pearsons correlation: %.3f' % corr)\n",
    "\n",
    "corr, _ = pearsonr(data.var4, data.var1)\n",
    "print('Pearsons correlation: %.3f' % corr)\n",
    "\n",
    "corr, _ = pearsonr(data.var2, data.var4)\n",
    "print('Pearsons correlation: %.3f' % corr)\n",
    "\n",
    "corr, _ = pearsonr(data.var3, data.var4)\n",
    "print('Pearsons correlation: %.3f' % corr)"
   ]
  },
  {
   "cell_type": "code",
   "execution_count": 119,
   "id": "2b2af8f5",
   "metadata": {},
   "outputs": [
    {
     "data": {
      "text/html": [
       "<div>\n",
       "<style scoped>\n",
       "    .dataframe tbody tr th:only-of-type {\n",
       "        vertical-align: middle;\n",
       "    }\n",
       "\n",
       "    .dataframe tbody tr th {\n",
       "        vertical-align: top;\n",
       "    }\n",
       "\n",
       "    .dataframe thead th {\n",
       "        text-align: right;\n",
       "    }\n",
       "</style>\n",
       "<table border=\"1\" class=\"dataframe\">\n",
       "  <thead>\n",
       "    <tr style=\"text-align: right;\">\n",
       "      <th></th>\n",
       "      <th>var1</th>\n",
       "      <th>var2</th>\n",
       "      <th>var3</th>\n",
       "      <th>var4</th>\n",
       "      <th>target</th>\n",
       "    </tr>\n",
       "  </thead>\n",
       "  <tbody>\n",
       "    <tr>\n",
       "      <th>var1</th>\n",
       "      <td>1.000000</td>\n",
       "      <td>-0.002906</td>\n",
       "      <td>0.007827</td>\n",
       "      <td>0.006701</td>\n",
       "      <td>0.010710</td>\n",
       "    </tr>\n",
       "    <tr>\n",
       "      <th>var2</th>\n",
       "      <td>-0.002906</td>\n",
       "      <td>1.000000</td>\n",
       "      <td>0.001120</td>\n",
       "      <td>0.001758</td>\n",
       "      <td>-0.008047</td>\n",
       "    </tr>\n",
       "    <tr>\n",
       "      <th>var3</th>\n",
       "      <td>0.007827</td>\n",
       "      <td>0.001120</td>\n",
       "      <td>1.000000</td>\n",
       "      <td>0.988993</td>\n",
       "      <td>0.006975</td>\n",
       "    </tr>\n",
       "    <tr>\n",
       "      <th>var4</th>\n",
       "      <td>0.006701</td>\n",
       "      <td>0.001758</td>\n",
       "      <td>0.988993</td>\n",
       "      <td>1.000000</td>\n",
       "      <td>0.007502</td>\n",
       "    </tr>\n",
       "    <tr>\n",
       "      <th>target</th>\n",
       "      <td>0.010710</td>\n",
       "      <td>-0.008047</td>\n",
       "      <td>0.006975</td>\n",
       "      <td>0.007502</td>\n",
       "      <td>1.000000</td>\n",
       "    </tr>\n",
       "  </tbody>\n",
       "</table>\n",
       "</div>"
      ],
      "text/plain": [
       "            var1      var2      var3      var4    target\n",
       "var1    1.000000 -0.002906  0.007827  0.006701  0.010710\n",
       "var2   -0.002906  1.000000  0.001120  0.001758 -0.008047\n",
       "var3    0.007827  0.001120  1.000000  0.988993  0.006975\n",
       "var4    0.006701  0.001758  0.988993  1.000000  0.007502\n",
       "target  0.010710 -0.008047  0.006975  0.007502  1.000000"
      ]
     },
     "execution_count": 119,
     "metadata": {},
     "output_type": "execute_result"
    }
   ],
   "source": [
    "data.corr()"
   ]
  },
  {
   "cell_type": "code",
   "execution_count": 120,
   "id": "98990c3b",
   "metadata": {},
   "outputs": [
    {
     "data": {
      "text/plain": [
       "<AxesSubplot:>"
      ]
     },
     "execution_count": 120,
     "metadata": {},
     "output_type": "execute_result"
    },
    {
     "data": {
      "image/png": "[encoded data removed]",
      "text/plain": [
       "<Figure size 432x288 with 2 Axes>"
      ]
     },
     "metadata": {
      "needs_background": "light"
     },
     "output_type": "display_data"
    }
   ],
   "source": [
    "sns.heatmap(data.corr(),annot=True)"
   ]
  },
  {
   "cell_type": "code",
   "execution_count": 121,
   "id": "67439c4c",
   "metadata": {},
   "outputs": [],
   "source": [
    "X=data[['var1','var2','var3','var4']]\n",
    "\n",
    "\n",
    "vif_data = pd.DataFrame()\n",
    "vif_data[\"feature\"] = X.columns\n",
    "vif_data[\"VIF\"] = [variance_inflation_factor(X.values, i) for i in range(len(X.columns))]"
   ]
  },
  {
   "cell_type": "code",
   "execution_count": 122,
   "id": "54b3feab",
   "metadata": {},
   "outputs": [
    {
     "data": {
      "text/html": [
       "<div>\n",
       "<style scoped>\n",
       "    .dataframe tbody tr th:only-of-type {\n",
       "        vertical-align: middle;\n",
       "    }\n",
       "\n",
       "    .dataframe tbody tr th {\n",
       "        vertical-align: top;\n",
       "    }\n",
       "\n",
       "    .dataframe thead th {\n",
       "        text-align: right;\n",
       "    }\n",
       "</style>\n",
       "<table border=\"1\" class=\"dataframe\">\n",
       "  <thead>\n",
       "    <tr style=\"text-align: right;\">\n",
       "      <th></th>\n",
       "      <th>feature</th>\n",
       "      <th>VIF</th>\n",
       "    </tr>\n",
       "  </thead>\n",
       "  <tbody>\n",
       "    <tr>\n",
       "      <th>0</th>\n",
       "      <td>var1</td>\n",
       "      <td>3.028877</td>\n",
       "    </tr>\n",
       "    <tr>\n",
       "      <th>1</th>\n",
       "      <td>var2</td>\n",
       "      <td>3.031153</td>\n",
       "    </tr>\n",
       "    <tr>\n",
       "      <th>2</th>\n",
       "      <td>var3</td>\n",
       "      <td>152.968354</td>\n",
       "    </tr>\n",
       "    <tr>\n",
       "      <th>3</th>\n",
       "      <td>var4</td>\n",
       "      <td>170.967892</td>\n",
       "    </tr>\n",
       "  </tbody>\n",
       "</table>\n",
       "</div>"
      ],
      "text/plain": [
       "  feature         VIF\n",
       "0    var1    3.028877\n",
       "1    var2    3.031153\n",
       "2    var3  152.968354\n",
       "3    var4  170.967892"
      ]
     },
     "execution_count": 122,
     "metadata": {},
     "output_type": "execute_result"
    }
   ],
   "source": [
    "vif_data"
   ]
  },
  {
   "cell_type": "markdown",
   "id": "d46bb19a",
   "metadata": {},
   "source": [
    "## with all features (model built on whole population)"
   ]
  },
  {
   "cell_type": "code",
   "execution_count": 123,
   "id": "f4f1d618",
   "metadata": {},
   "outputs": [],
   "source": [
    "X=data.drop(['target'],axis=1)\n",
    "y=data.target"
   ]
  },
  {
   "cell_type": "code",
   "execution_count": 124,
   "id": "04a0a449",
   "metadata": {},
   "outputs": [],
   "source": [
    "lr=LinearRegression()\n",
    "lr.fit(X,y)\n",
    "y_pred=lr.predict(X)"
   ]
  },
  {
   "cell_type": "code",
   "execution_count": 125,
   "id": "5296d563",
   "metadata": {},
   "outputs": [],
   "source": [
    "from sklearn.metrics import mean_squared_error"
   ]
  },
  {
   "cell_type": "code",
   "execution_count": 126,
   "id": "96a5abb4",
   "metadata": {},
   "outputs": [
    {
     "data": {
      "text/plain": [
       "28.718811150813274"
      ]
     },
     "execution_count": 126,
     "metadata": {},
     "output_type": "execute_result"
    }
   ],
   "source": [
    "np.sqrt(mean_squared_error(y,y_pred))"
   ]
  },
  {
   "cell_type": "markdown",
   "id": "75dfb01b",
   "metadata": {},
   "source": [
    "## with removed feature i.e not correlated  (model built on whole population)"
   ]
  },
  {
   "cell_type": "code",
   "execution_count": 127,
   "id": "9013b363",
   "metadata": {},
   "outputs": [],
   "source": [
    "X=data.drop(['target','var4'],axis=1)\n",
    "y=data.target"
   ]
  },
  {
   "cell_type": "code",
   "execution_count": 128,
   "id": "a0668d92",
   "metadata": {},
   "outputs": [],
   "source": [
    "lr=LinearRegression()\n",
    "lr.fit(X,y)\n",
    "y_pred=lr.predict(X)"
   ]
  },
  {
   "cell_type": "code",
   "execution_count": 129,
   "id": "9e6ec2c5",
   "metadata": {},
   "outputs": [
    {
     "data": {
      "text/plain": [
       "28.719063496126036"
      ]
     },
     "execution_count": 129,
     "metadata": {},
     "output_type": "execute_result"
    }
   ],
   "source": [
    "np.sqrt(mean_squared_error(y,y_pred))"
   ]
  },
  {
   "cell_type": "code",
   "execution_count": 130,
   "id": "bbddfbe6",
   "metadata": {},
   "outputs": [],
   "source": [
    "from sklearn.linear_model import LinearRegression\n",
    "from sklearn.metrics import r2_score"
   ]
  },
  {
   "cell_type": "markdown",
   "id": "76a527b5",
   "metadata": {},
   "source": [
    "## with all features for samples (multicollinearity within features)"
   ]
  },
  {
   "cell_type": "code",
   "execution_count": 131,
   "id": "b66930f5",
   "metadata": {},
   "outputs": [
    {
     "name": "stdout",
     "output_type": "stream",
     "text": [
      "28.620360073442395\n"
     ]
    }
   ],
   "source": [
    "n=1000\n",
    "rmse=[]\n",
    "for i in range(100):\n",
    "    sample = data.sample(n)\n",
    "    X = sample.drop(['target'],axis=1)\n",
    "    y = sample['target']\n",
    "\n",
    "    \n",
    "    lr=LinearRegression()\n",
    "    lr.fit(X,y)\n",
    "    y_pred=lr.predict(X)\n",
    "    \n",
    "    rmse.append(np.sqrt(mean_squared_error(y,y_pred)))\n",
    "print(np.mean(rmse))"
   ]
  },
  {
   "cell_type": "markdown",
   "id": "76fee4f9",
   "metadata": {},
   "source": [
    "## Checking Coefficent"
   ]
  },
  {
   "cell_type": "code",
   "execution_count": 141,
   "id": "03815a49",
   "metadata": {},
   "outputs": [],
   "source": [
    "l1 = []\n",
    "l2 = []\n",
    "l3 = []\n",
    "lr = LinearRegression()\n",
    "for i in range(1000):\n",
    "    sample = data.sample(10)\n",
    "    X = sample.drop('target',axis=1)\n",
    "    y = sample['target']\n",
    "    lr.fit(X,y)\n",
    "    l1.append(lr.coef_[0])\n",
    "    l2.append(lr.coef_[1])\n",
    "    l3.append(lr.coef_[2])"
   ]
  },
  {
   "cell_type": "code",
   "execution_count": 142,
   "id": "6516454b",
   "metadata": {},
   "outputs": [
    {
     "data": {
      "text/plain": [
       "(0.46972780703209654, 0.45230594973563965, 3.1531377910898586)"
      ]
     },
     "execution_count": 142,
     "metadata": {},
     "output_type": "execute_result"
    }
   ],
   "source": [
    "np.std(l1),np.std(l2),np.std(l3)"
   ]
  },
  {
   "cell_type": "code",
   "execution_count": null,
   "id": "bd72f6b6",
   "metadata": {},
   "outputs": [],
   "source": []
  },
  {
   "cell_type": "markdown",
   "id": "49598083",
   "metadata": {},
   "source": [
    "## with removed features for samples (no multicollinearity)"
   ]
  },
  {
   "cell_type": "code",
   "execution_count": 132,
   "id": "06726cb5",
   "metadata": {},
   "outputs": [
    {
     "name": "stdout",
     "output_type": "stream",
     "text": [
      "21.52485344892036\n"
     ]
    }
   ],
   "source": [
    "n=1000\n",
    "rmse=[]\n",
    "for i in range(100):\n",
    "    sample = data.sample(10)\n",
    "    X = sample.drop(['target','var4'],axis=1)\n",
    "    y = sample['target']\n",
    "    \n",
    "    lr=LinearRegression()\n",
    "    lr.fit(X,y)\n",
    "    y_pred=lr.predict(X)\n",
    "    \n",
    "    rmse.append(np.sqrt(mean_squared_error(y,y_pred)))\n",
    "print(np.mean(rmse))"
   ]
  },
  {
   "cell_type": "markdown",
   "id": "05a101e2",
   "metadata": {},
   "source": [
    "## Checking Coefficent"
   ]
  },
  {
   "cell_type": "code",
   "execution_count": 143,
   "id": "eab10301",
   "metadata": {},
   "outputs": [],
   "source": [
    "l1 = []\n",
    "l2 = []\n",
    "l3 = []\n",
    "lr = LinearRegression()\n",
    "for i in range(1000):\n",
    "    sample = data.sample(10)\n",
    "    X = sample.drop(['target','var4'],axis=1)\n",
    "    y = sample['target']\n",
    "    lr.fit(X,y)\n",
    "    l1.append(lr.coef_[0])\n",
    "    l2.append(lr.coef_[1])\n",
    "    l3.append(lr.coef_[2])"
   ]
  },
  {
   "cell_type": "code",
   "execution_count": 144,
   "id": "247de4e1",
   "metadata": {},
   "outputs": [
    {
     "data": {
      "text/plain": [
       "(0.4342486783985902, 0.4217988960148251, 0.4457991085502787)"
      ]
     },
     "execution_count": 144,
     "metadata": {},
     "output_type": "execute_result"
    }
   ],
   "source": [
    "np.std(l1),np.std(l2),np.std(l3)"
   ]
  },
  {
   "cell_type": "markdown",
   "id": "9d6ca9f7",
   "metadata": {},
   "source": [
    "# Results"
   ]
  },
  {
   "cell_type": "markdown",
   "id": "acbbc12a",
   "metadata": {},
   "source": [
    "## so from above we conclude that when there is multicollinearity standard error of model is greather then model with features where there is no multicollinearity"
   ]
  },
  {
   "cell_type": "markdown",
   "id": "0a25d6f0",
   "metadata": {},
   "source": [
    "##  as we can see the standard deviation of coefficient is decrases when we remove variable which have multi colinearity"
   ]
  },
  {
   "cell_type": "code",
   "execution_count": null,
   "id": "67cebb17",
   "metadata": {},
   "outputs": [],
   "source": []
  }
 ],
 "metadata": {
  "kernelspec": {
   "display_name": "Python 3 (ipykernel)",
   "language": "python",
   "name": "python3"
  },
  "language_info": {
   "codemirror_mode": {
    "name": "ipython",
    "version": 3
   },
   "file_extension": ".py",
   "mimetype": "text/x-python",
   "name": "python",
   "nbconvert_exporter": "python",
   "pygments_lexer": "ipython3",
   "version": "3.9.7"
  }
 },
 "nbformat": 4,
 "nbformat_minor": 5
}
